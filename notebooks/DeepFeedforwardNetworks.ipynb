{
 "cells": [
  {
   "cell_type": "markdown",
   "metadata": {},
   "source": [
    "### Deep Feedforward Networks \n",
    "Goal: approximate some function $f^{*}$\n",
    "\n",
    "Classifier: $y = f^{*}(\\boldsymbol{x})$\n",
    "- maps an input $\\boldsymbol{x}$ to a category $y$\n",
    "\n",
    "A feedforward network:\n",
    "- defines a mapping: $\\boldsymbol{y} = f(\\boldsymbol{x}; \\boldsymbol{\\theta})$\n",
    "- learns the value of parameters $\\boldsymbol{\\theta}$ that result in the best approximation\n",
    "\n",
    "\"network\"\n",
    "- feedforward networks are typically represented by function composition\n",
    "- associated with a directed acyclic graph describing the function composition\n",
    "- example: three functions $f^{(1)}$, $f^{(2)}$, $f^{(3)}$ composed in a chain form $f(\\boldsymbol{x}) = f^{(3)}(f^{(2)}(f^{(1)}(\\boldsymbol{x})))$\n",
    "- each function in chain is a \"layer\"\n",
    "- length of the chain gives the \"depth\" of the model"
   ]
  }
 ],
 "metadata": {
  "kernelspec": {
   "display_name": "Python [conda env:env]",
   "language": "python",
   "name": "conda-env-env-py"
  },
  "language_info": {
   "codemirror_mode": {
    "name": "ipython",
    "version": 3
   },
   "file_extension": ".py",
   "mimetype": "text/x-python",
   "name": "python",
   "nbconvert_exporter": "python",
   "pygments_lexer": "ipython3",
   "version": "3.5.2"
  }
 },
 "nbformat": 4,
 "nbformat_minor": 1
}
